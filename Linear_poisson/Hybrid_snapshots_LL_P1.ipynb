{
 "cells": [
  {
   "cell_type": "markdown",
   "id": "730663c8",
   "metadata": {},
   "source": [
    "# Hybrid model \n",
    "\n",
    "## This script does the following \n",
    "\n",
    "* Models the hybrid linear-linear coupled problem with varying gaussian source term\n",
    "* Solves the hybrid model using domain decomposition"
   ]
  },
  {
   "cell_type": "code",
   "execution_count": null,
   "id": "4c1de2c8",
   "metadata": {},
   "outputs": [],
   "source": [
    "print('\\n Generating snapshots for the hybrid model')\n",
    "\n",
    "start = time.time()\n",
    "# Initialize snapshot matrix\n",
    "s = np.zeros((ndofs_u1+ndofs_uI+ndofs_U2,nsamples))\n",
    "\n",
    "# Initialize traction array and interface vector array\n",
    "traction_array12 = np.zeros((nsamples,ndofs_uI))\n",
    "u_I_list = np.zeros((nsamples,ndofs_uI))\n",
    "\n",
    "for i in range(nsamples):\n",
    "    \n",
    "    print(i+1, \"snapshots computed,\",nsamples-i-1,\"snapshots to go...\", end=\"\\r\")\n",
    "    \n",
    "    f_2I = np.matmul(V_I.T,F_2I_array[i])\n",
    "    f_I = np.matmul(V_I.T,F_I_array[i])\n",
    "\n",
    "    if i == 0:\n",
    "        \n",
    "        # Create reduced matrices\n",
    "        a_11 = np.matmul(np.matmul(V_1.T,A_11.toarray()),V_1)\n",
    "\n",
    "        a_1I = np.matmul(np.matmul(V_1.T,A_1I.toarray()),V_I)\n",
    "        a_I1 = np.matmul(np.matmul(V_I.T, A_I1.toarray()), V_1)\n",
    "\n",
    "        a_II = np.matmul(np.matmul(V_I.T, A_II.toarray()), V_I)\n",
    "\n",
    "        a_I2 = np.matmul(V_I.T,A_I2.toarray())\n",
    "        a_2I = np.matmul(A_2I.toarray(),V_I)\n",
    "\n",
    "        f_1 = np.matmul(V_1.T,F_1)\n",
    "        f_1I = np.matmul(V_I.T,F_1I)\n",
    "        a_II1 = np.matmul(np.matmul(V_I.T, A_II1.toarray()), V_I)\n",
    "\n",
    "        a1_tilde = a_II1-np.matmul(np.matmul(a_I1,np.linalg.inv(a_11)),a_1I)\n",
    "        f1_tilde = np.matmul(np.matmul(a_I1,np.linalg.inv(a_11)),f_1)-f_1I\n",
    "    \n",
    "    # Assemble again\n",
    "\n",
    "    # Put A and F back together\n",
    "    a = sps.bmat([[a_11, None, a_1I],[None, A_22,a_2I],[a_I1,a_I2,a_II]]).tocsc()\n",
    "    f = sps.hstack([f_1,F_2_array[i],f_I]).tocsc()\n",
    "\n",
    "    # Solve\n",
    "    u = sps.linalg.spsolve(a,f.T)\n",
    "    s[:,i] = u\n",
    "    \n",
    "    u_I = u[-ndofs_uI:]\n",
    "    u_I_list[i] = u_I\n",
    "    \n",
    "    traction = np.matmul(a1_tilde,u_I)+f1_tilde\n",
    "    traction_array12[i] = traction\n",
    "\n",
    "    if i == nsamples-ntest:\n",
    "        end = time.time()\n",
    "        hybridtime = end-start\n",
    "\n",
    "print(\"\\n Finished.\")"
   ]
  }
 ],
 "metadata": {
  "kernelspec": {
   "display_name": "Python 3 (ipykernel)",
   "language": "python",
   "name": "python3"
  },
  "language_info": {
   "codemirror_mode": {
    "name": "ipython",
    "version": 3
   },
   "file_extension": ".py",
   "mimetype": "text/x-python",
   "name": "python",
   "nbconvert_exporter": "python",
   "pygments_lexer": "ipython3",
   "version": "3.10.6"
  }
 },
 "nbformat": 4,
 "nbformat_minor": 5
}
